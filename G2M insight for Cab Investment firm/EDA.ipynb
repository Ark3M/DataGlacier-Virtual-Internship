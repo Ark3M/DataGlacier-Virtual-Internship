{
 "cells": [
  {
   "cell_type": "markdown",
   "source": [
    "# Exploratory Data Analysis"
   ],
   "metadata": {
    "collapsed": false,
    "pycharm": {
     "name": "#%% md\n"
    }
   }
  },
  {
   "cell_type": "code",
   "execution_count": 1,
   "outputs": [],
   "source": [
    "import pandas as pd"
   ],
   "metadata": {
    "collapsed": false,
    "pycharm": {
     "name": "#%%\n"
    }
   }
  },
  {
   "cell_type": "code",
   "execution_count": null,
   "outputs": [],
   "source": [
    "cab_data = pd.read_csv(\"../G2M insight for Cab Investment firm/data/Cab_Data.csv\")\n",
    "customer_data = pd.read_csv(\"../G2M insight for Cab Investment firm/data/Customer_ID.csv\")\n",
    "transaction_data = pd.read_csv(\"../G2M insight for Cab Investment firm/data/Transaction_ID.csv\")\n",
    "city_data = pd.read_csv(\"../G2M insight for Cab Investment firm/data/City.csv\")"
   ],
   "metadata": {
    "collapsed": false,
    "pycharm": {
     "name": "#%%\n"
    }
   }
  },
  {
   "cell_type": "markdown",
   "source": [
    "`cab_data` includes details of transaction for 2 cab companies."
   ],
   "metadata": {
    "collapsed": false,
    "pycharm": {
     "name": "#%% md\n"
    }
   }
  },
  {
   "cell_type": "code",
   "execution_count": 15,
   "outputs": [
    {
     "data": {
      "text/plain": "   Transaction ID  Date of Travel   Company        City  KM Travelled  \\\n0        10000011           42377  Pink Cab  ATLANTA GA         30.45   \n1        10000012           42375  Pink Cab  ATLANTA GA         28.62   \n2        10000013           42371  Pink Cab  ATLANTA GA          9.04   \n3        10000014           42376  Pink Cab  ATLANTA GA         33.17   \n4        10000015           42372  Pink Cab  ATLANTA GA          8.73   \n\n   Price Charged  Cost of Trip  \n0         370.95       313.635  \n1         358.52       334.854  \n2         125.20        97.632  \n3         377.40       351.602  \n4         114.62        97.776  ",
      "text/html": "<div>\n<style scoped>\n    .dataframe tbody tr th:only-of-type {\n        vertical-align: middle;\n    }\n\n    .dataframe tbody tr th {\n        vertical-align: top;\n    }\n\n    .dataframe thead th {\n        text-align: right;\n    }\n</style>\n<table border=\"1\" class=\"dataframe\">\n  <thead>\n    <tr style=\"text-align: right;\">\n      <th></th>\n      <th>Transaction ID</th>\n      <th>Date of Travel</th>\n      <th>Company</th>\n      <th>City</th>\n      <th>KM Travelled</th>\n      <th>Price Charged</th>\n      <th>Cost of Trip</th>\n    </tr>\n  </thead>\n  <tbody>\n    <tr>\n      <th>0</th>\n      <td>10000011</td>\n      <td>42377</td>\n      <td>Pink Cab</td>\n      <td>ATLANTA GA</td>\n      <td>30.45</td>\n      <td>370.95</td>\n      <td>313.635</td>\n    </tr>\n    <tr>\n      <th>1</th>\n      <td>10000012</td>\n      <td>42375</td>\n      <td>Pink Cab</td>\n      <td>ATLANTA GA</td>\n      <td>28.62</td>\n      <td>358.52</td>\n      <td>334.854</td>\n    </tr>\n    <tr>\n      <th>2</th>\n      <td>10000013</td>\n      <td>42371</td>\n      <td>Pink Cab</td>\n      <td>ATLANTA GA</td>\n      <td>9.04</td>\n      <td>125.20</td>\n      <td>97.632</td>\n    </tr>\n    <tr>\n      <th>3</th>\n      <td>10000014</td>\n      <td>42376</td>\n      <td>Pink Cab</td>\n      <td>ATLANTA GA</td>\n      <td>33.17</td>\n      <td>377.40</td>\n      <td>351.602</td>\n    </tr>\n    <tr>\n      <th>4</th>\n      <td>10000015</td>\n      <td>42372</td>\n      <td>Pink Cab</td>\n      <td>ATLANTA GA</td>\n      <td>8.73</td>\n      <td>114.62</td>\n      <td>97.776</td>\n    </tr>\n  </tbody>\n</table>\n</div>"
     },
     "execution_count": 15,
     "metadata": {},
     "output_type": "execute_result"
    }
   ],
   "source": [
    "cab_data.head(n=5)"
   ],
   "metadata": {
    "collapsed": false,
    "pycharm": {
     "name": "#%%\n"
    }
   }
  },
  {
   "cell_type": "markdown",
   "source": [
    "`customer_data` consists of a mapping table that contains a unique ID which links the customer's demographic details."
   ],
   "metadata": {
    "collapsed": false,
    "pycharm": {
     "name": "#%% md\n"
    }
   }
  },
  {
   "cell_type": "code",
   "execution_count": 16,
   "outputs": [
    {
     "data": {
      "text/plain": "   Customer ID Gender  Age  Income (USD/Month)\n0        29290   Male   28               10813\n1        27703   Male   27                9237\n2        28712   Male   53               11242\n3        28020   Male   23               23327\n4        27182   Male   33                8536",
      "text/html": "<div>\n<style scoped>\n    .dataframe tbody tr th:only-of-type {\n        vertical-align: middle;\n    }\n\n    .dataframe tbody tr th {\n        vertical-align: top;\n    }\n\n    .dataframe thead th {\n        text-align: right;\n    }\n</style>\n<table border=\"1\" class=\"dataframe\">\n  <thead>\n    <tr style=\"text-align: right;\">\n      <th></th>\n      <th>Customer ID</th>\n      <th>Gender</th>\n      <th>Age</th>\n      <th>Income (USD/Month)</th>\n    </tr>\n  </thead>\n  <tbody>\n    <tr>\n      <th>0</th>\n      <td>29290</td>\n      <td>Male</td>\n      <td>28</td>\n      <td>10813</td>\n    </tr>\n    <tr>\n      <th>1</th>\n      <td>27703</td>\n      <td>Male</td>\n      <td>27</td>\n      <td>9237</td>\n    </tr>\n    <tr>\n      <th>2</th>\n      <td>28712</td>\n      <td>Male</td>\n      <td>53</td>\n      <td>11242</td>\n    </tr>\n    <tr>\n      <th>3</th>\n      <td>28020</td>\n      <td>Male</td>\n      <td>23</td>\n      <td>23327</td>\n    </tr>\n    <tr>\n      <th>4</th>\n      <td>27182</td>\n      <td>Male</td>\n      <td>33</td>\n      <td>8536</td>\n    </tr>\n  </tbody>\n</table>\n</div>"
     },
     "execution_count": 16,
     "metadata": {},
     "output_type": "execute_result"
    }
   ],
   "source": [
    "customer_data.head(n=5)"
   ],
   "metadata": {
    "collapsed": false,
    "pycharm": {
     "name": "#%%\n"
    }
   }
  },
  {
   "cell_type": "markdown",
   "source": [
    "`transaction_data` consists of a mapping table that contains transaction to customer mapping and payment mode."
   ],
   "metadata": {
    "collapsed": false,
    "pycharm": {
     "name": "#%% md\n"
    }
   }
  },
  {
   "cell_type": "code",
   "execution_count": 17,
   "outputs": [
    {
     "data": {
      "text/plain": "   Transaction ID  Customer ID Payment_Mode\n0        10000011        29290         Card\n1        10000012        27703         Card\n2        10000013        28712         Cash\n3        10000014        28020         Cash\n4        10000015        27182         Card",
      "text/html": "<div>\n<style scoped>\n    .dataframe tbody tr th:only-of-type {\n        vertical-align: middle;\n    }\n\n    .dataframe tbody tr th {\n        vertical-align: top;\n    }\n\n    .dataframe thead th {\n        text-align: right;\n    }\n</style>\n<table border=\"1\" class=\"dataframe\">\n  <thead>\n    <tr style=\"text-align: right;\">\n      <th></th>\n      <th>Transaction ID</th>\n      <th>Customer ID</th>\n      <th>Payment_Mode</th>\n    </tr>\n  </thead>\n  <tbody>\n    <tr>\n      <th>0</th>\n      <td>10000011</td>\n      <td>29290</td>\n      <td>Card</td>\n    </tr>\n    <tr>\n      <th>1</th>\n      <td>10000012</td>\n      <td>27703</td>\n      <td>Card</td>\n    </tr>\n    <tr>\n      <th>2</th>\n      <td>10000013</td>\n      <td>28712</td>\n      <td>Cash</td>\n    </tr>\n    <tr>\n      <th>3</th>\n      <td>10000014</td>\n      <td>28020</td>\n      <td>Cash</td>\n    </tr>\n    <tr>\n      <th>4</th>\n      <td>10000015</td>\n      <td>27182</td>\n      <td>Card</td>\n    </tr>\n  </tbody>\n</table>\n</div>"
     },
     "execution_count": 17,
     "metadata": {},
     "output_type": "execute_result"
    }
   ],
   "source": [
    "transaction_data.head(n=5)"
   ],
   "metadata": {
    "collapsed": false,
    "pycharm": {
     "name": "#%%\n"
    }
   }
  },
  {
   "cell_type": "markdown",
   "source": [
    "`city_data` contains list of the US cities, their population and number of cab users."
   ],
   "metadata": {
    "collapsed": false,
    "pycharm": {
     "name": "#%% md\n"
    }
   }
  },
  {
   "cell_type": "code",
   "execution_count": 18,
   "outputs": [
    {
     "data": {
      "text/plain": "             City   Population      Users\n0     NEW YORK NY   8,405,837    302,149 \n1      CHICAGO IL   1,955,130    164,468 \n2  LOS ANGELES CA   1,595,037    144,132 \n3        MIAMI FL   1,339,155     17,675 \n4  SILICON VALLEY   1,177,609     27,247 ",
      "text/html": "<div>\n<style scoped>\n    .dataframe tbody tr th:only-of-type {\n        vertical-align: middle;\n    }\n\n    .dataframe tbody tr th {\n        vertical-align: top;\n    }\n\n    .dataframe thead th {\n        text-align: right;\n    }\n</style>\n<table border=\"1\" class=\"dataframe\">\n  <thead>\n    <tr style=\"text-align: right;\">\n      <th></th>\n      <th>City</th>\n      <th>Population</th>\n      <th>Users</th>\n    </tr>\n  </thead>\n  <tbody>\n    <tr>\n      <th>0</th>\n      <td>NEW YORK NY</td>\n      <td>8,405,837</td>\n      <td>302,149</td>\n    </tr>\n    <tr>\n      <th>1</th>\n      <td>CHICAGO IL</td>\n      <td>1,955,130</td>\n      <td>164,468</td>\n    </tr>\n    <tr>\n      <th>2</th>\n      <td>LOS ANGELES CA</td>\n      <td>1,595,037</td>\n      <td>144,132</td>\n    </tr>\n    <tr>\n      <th>3</th>\n      <td>MIAMI FL</td>\n      <td>1,339,155</td>\n      <td>17,675</td>\n    </tr>\n    <tr>\n      <th>4</th>\n      <td>SILICON VALLEY</td>\n      <td>1,177,609</td>\n      <td>27,247</td>\n    </tr>\n  </tbody>\n</table>\n</div>"
     },
     "execution_count": 18,
     "metadata": {},
     "output_type": "execute_result"
    }
   ],
   "source": [
    "city_data.head(n=5)"
   ],
   "metadata": {
    "collapsed": false,
    "pycharm": {
     "name": "#%%\n"
    }
   }
  },
  {
   "cell_type": "code",
   "execution_count": null,
   "outputs": [],
   "source": [],
   "metadata": {
    "collapsed": false,
    "pycharm": {
     "name": "#%%\n"
    }
   }
  }
 ],
 "metadata": {
  "kernelspec": {
   "display_name": "Python 3",
   "language": "python",
   "name": "python3"
  },
  "language_info": {
   "codemirror_mode": {
    "name": "ipython",
    "version": 2
   },
   "file_extension": ".py",
   "mimetype": "text/x-python",
   "name": "python",
   "nbconvert_exporter": "python",
   "pygments_lexer": "ipython2",
   "version": "2.7.6"
  }
 },
 "nbformat": 4,
 "nbformat_minor": 0
}